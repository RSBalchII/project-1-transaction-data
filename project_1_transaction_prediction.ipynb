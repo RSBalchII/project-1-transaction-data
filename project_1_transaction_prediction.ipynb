{
  "nbformat": 4,
  "nbformat_minor": 0,
  "metadata": {
    "colab": {
      "provenance": [],
      "gpuType": "V28",
      "authorship_tag": "ABX9TyNM7+/c/JEzO7JTELwBNhpC",
      "include_colab_link": true
    },
    "kernelspec": {
      "name": "python3",
      "display_name": "Python 3"
    },
    "language_info": {
      "name": "python"
    },
    "accelerator": "TPU"
  },
  "cells": [
    {
      "cell_type": "markdown",
      "metadata": {
        "id": "view-in-github",
        "colab_type": "text"
      },
      "source": [
        "<a href=\"https://colab.research.google.com/github/RSBalchII/project-1-transaction-data/blob/main/project_1_transaction_prediction.ipynb\" target=\"_parent\"><img src=\"https://colab.research.google.com/assets/colab-badge.svg\" alt=\"Open In Colab\"/></a>"
      ]
    },
    {
      "cell_type": "markdown",
      "source": [
        "## Project 1: Transaction Success Prediction\n",
        "\n",
        "By: Robert S. Balch II"
      ],
      "metadata": {
        "id": "nl5YiFr9Tqux"
      }
    },
    {
      "cell_type": "markdown",
      "source": [
        "## Problem Definition: #1\n",
        "\n",
        "This project is related to a binary classification problem using user historical data to predict whether or not a customer will make a transaction in the future based on their past transaction data.\n",
        "\n",
        "The data is available on AWS S3 at https://ddc-datascience.s3.amazonaws.com/Projects/Project.1-Transactions/Data/Transaction.train.csv\n"
      ],
      "metadata": {
        "id": "H6sbboa8U49A"
      }
    },
    {
      "cell_type": "markdown",
      "source": [
        "## Data Collection/Imports"
      ],
      "metadata": {
        "id": "6exCoF_tVL7K"
      }
    },
    {
      "cell_type": "markdown",
      "source": [
        "### #2 Load Imports"
      ],
      "metadata": {
        "id": "GadDIRLfaofJ"
      }
    },
    {
      "cell_type": "code",
      "source": [
        "from IPython.display import Image\n",
        "import matplotlib.pyplot as plt\n",
        "import numpy as np\n",
        "import pandas as pd\n",
        "import plotly.express as px\n",
        "import seaborn as sns\n",
        "\n",
        "from sklearn import datasets, metrics, model_selection\n",
        "from sklearn import model_selection\n",
        "from sklearn.metrics import confusion_matrix, classification_report\n",
        "from sklearn.naive_bayes import GaussianNB\n",
        "from sklearn.model_selection import train_test_split, cross_val_score"
      ],
      "metadata": {
        "id": "O_RccCUBU4fV"
      },
      "execution_count": 408,
      "outputs": []
    },
    {
      "cell_type": "markdown",
      "source": [
        "### #3 Load train.csv"
      ],
      "metadata": {
        "id": "vteYU5GEawZ2"
      }
    },
    {
      "cell_type": "code",
      "source": [
        "base_path = \"https://ddc-datascience.s3.amazonaws.com/Projects/Project.1-Transactions/Data/Transaction.train.csv\"\n",
        "train_path = base_path + 'Transaction.train.csv'\n",
        "test_path = base_path + 'Testing.test.csv'"
      ],
      "metadata": {
        "id": "y7upQDZJUQwy"
      },
      "execution_count": 409,
      "outputs": []
    },
    {
      "cell_type": "code",
      "source": [
        "train_path"
      ],
      "metadata": {
        "id": "mFJ74X80UYwM",
        "colab": {
          "base_uri": "https://localhost:8080/",
          "height": 35
        },
        "outputId": "f68193e2-e39f-4ce5-a5de-2c28f1bdce59"
      },
      "execution_count": 410,
      "outputs": [
        {
          "output_type": "execute_result",
          "data": {
            "text/plain": [
              "'https://ddc-datascience.s3.amazonaws.com/Projects/Project.1-Transactions/Data/Transaction.train.csvTransaction.train.csv'"
            ],
            "application/vnd.google.colaboratory.intrinsic+json": {
              "type": "string"
            }
          },
          "metadata": {},
          "execution_count": 410
        }
      ]
    },
    {
      "cell_type": "markdown",
      "source": [
        "## Data Cleaning"
      ],
      "metadata": {
        "id": "6dueGrmprhh9"
      }
    },
    {
      "cell_type": "markdown",
      "source": [
        "### #4 Examine Data"
      ],
      "metadata": {
        "id": "PhbeWAigyqol"
      }
    },
    {
      "cell_type": "code",
      "source": [
        "trans_data = pd.read_csv(base_path)"
      ],
      "metadata": {
        "id": "9XrBtuPwUb3q"
      },
      "execution_count": 411,
      "outputs": []
    },
    {
      "cell_type": "markdown",
      "source": [
        "#### create default data frame"
      ],
      "metadata": {
        "id": "ClCguos-y6mb"
      }
    },
    {
      "cell_type": "code",
      "source": [
        "trans_data_df = pd.DataFrame(trans_data)"
      ],
      "metadata": {
        "id": "Z2tXff1kpJEx"
      },
      "execution_count": 412,
      "outputs": []
    },
    {
      "cell_type": "code",
      "source": [
        "trans_data_df.info()"
      ],
      "metadata": {
        "id": "XREM3KCJpmBd",
        "colab": {
          "base_uri": "https://localhost:8080/"
        },
        "outputId": "0ff1ecbf-5bba-4827-ab43-4c74ac8b0021"
      },
      "execution_count": 413,
      "outputs": [
        {
          "output_type": "stream",
          "name": "stdout",
          "text": [
            "<class 'pandas.core.frame.DataFrame'>\n",
            "RangeIndex: 180000 entries, 0 to 179999\n",
            "Data columns (total 53 columns):\n",
            " #   Column      Non-Null Count   Dtype  \n",
            "---  ------      --------------   -----  \n",
            " 0   Unnamed: 0  180000 non-null  int64  \n",
            " 1   ID_code     180000 non-null  object \n",
            " 2   target      180000 non-null  int64  \n",
            " 3   var_0       180000 non-null  float64\n",
            " 4   var_1       180000 non-null  float64\n",
            " 5   var_2       180000 non-null  float64\n",
            " 6   var_3       180000 non-null  float64\n",
            " 7   var_4       180000 non-null  float64\n",
            " 8   var_5       180000 non-null  float64\n",
            " 9   var_6       180000 non-null  float64\n",
            " 10  var_7       180000 non-null  float64\n",
            " 11  var_8       180000 non-null  float64\n",
            " 12  var_9       180000 non-null  float64\n",
            " 13  var_10      180000 non-null  float64\n",
            " 14  var_11      180000 non-null  float64\n",
            " 15  var_12      180000 non-null  float64\n",
            " 16  var_13      180000 non-null  float64\n",
            " 17  var_14      180000 non-null  float64\n",
            " 18  var_15      180000 non-null  float64\n",
            " 19  var_16      180000 non-null  float64\n",
            " 20  var_17      180000 non-null  float64\n",
            " 21  var_18      180000 non-null  float64\n",
            " 22  var_19      180000 non-null  float64\n",
            " 23  var_20      180000 non-null  float64\n",
            " 24  var_21      180000 non-null  float64\n",
            " 25  var_22      180000 non-null  float64\n",
            " 26  var_23      180000 non-null  float64\n",
            " 27  var_24      180000 non-null  float64\n",
            " 28  var_25      180000 non-null  float64\n",
            " 29  var_26      180000 non-null  float64\n",
            " 30  var_27      180000 non-null  float64\n",
            " 31  var_28      180000 non-null  float64\n",
            " 32  var_29      180000 non-null  float64\n",
            " 33  var_30      180000 non-null  float64\n",
            " 34  var_31      180000 non-null  float64\n",
            " 35  var_32      180000 non-null  float64\n",
            " 36  var_33      180000 non-null  float64\n",
            " 37  var_34      180000 non-null  float64\n",
            " 38  var_35      180000 non-null  float64\n",
            " 39  var_36      180000 non-null  float64\n",
            " 40  var_37      180000 non-null  float64\n",
            " 41  var_38      180000 non-null  float64\n",
            " 42  var_39      180000 non-null  float64\n",
            " 43  var_40      180000 non-null  float64\n",
            " 44  var_41      180000 non-null  float64\n",
            " 45  var_42      180000 non-null  float64\n",
            " 46  var_43      180000 non-null  float64\n",
            " 47  var_44      180000 non-null  float64\n",
            " 48  var_45      180000 non-null  float64\n",
            " 49  var_46      180000 non-null  float64\n",
            " 50  var_47      180000 non-null  float64\n",
            " 51  var_48      180000 non-null  float64\n",
            " 52  var_49      180000 non-null  float64\n",
            "dtypes: float64(50), int64(2), object(1)\n",
            "memory usage: 72.8+ MB\n"
          ]
        }
      ]
    },
    {
      "cell_type": "markdown",
      "source": [
        "## #5 Determine Data Cleaning"
      ],
      "metadata": {
        "id": "i1olgjVvzFmS"
      }
    },
    {
      "cell_type": "code",
      "source": [
        "trans_data_df.sample(n = 100)"
      ],
      "metadata": {
        "id": "M2y6zZfSkW6l",
        "colab": {
          "base_uri": "https://localhost:8080/",
          "height": 461
        },
        "outputId": "e2ba708e-cb82-4add-c2de-016dae7fbed4"
      },
      "execution_count": 414,
      "outputs": [
        {
          "output_type": "execute_result",
          "data": {
            "text/plain": [
              "        Unnamed: 0       ID_code  target    var_0   var_1    var_2   var_3  \\\n",
              "120451      120451  train_120451       0  11.2811  4.7879   9.6031  6.6646   \n",
              "49957        49957   train_49957       0  16.1763 -6.0137   8.3845  5.6125   \n",
              "115072      115072  train_115072       0  11.5778  4.0513  11.0615  5.9291   \n",
              "108410      108410  train_108410       0   8.8475 -2.9646  12.9073  4.2131   \n",
              "11225        11225   train_11225       0  13.4892 -4.6375  14.0525  4.8566   \n",
              "...            ...           ...     ...      ...     ...      ...     ...   \n",
              "113262      113262  train_113262       0   8.2047  0.4654  14.2480  6.3029   \n",
              "77041        77041   train_77041       0   4.6997  1.3306   9.7885  5.2227   \n",
              "140384      140384  train_140384       1  13.9833  1.9758  11.9405  4.4079   \n",
              "92232        92232   train_92232       0  12.7798  2.6713  13.7355  6.0255   \n",
              "142238      142238  train_142238       0  10.6300 -9.7146  12.4968  6.3084   \n",
              "\n",
              "         var_4    var_5    var_6  ...  var_40  var_41   var_42   var_43  \\\n",
              "120451  8.8750  14.2753  15.1446  ...  5.6793 -4.8303 -10.6003  24.1287   \n",
              "49957   8.1183  14.2124  11.6687  ...  6.2236  0.3856   4.7783  25.0809   \n",
              "115072  8.5484  13.8261  10.0410  ...  6.2507  3.1608  -4.4164  17.7447   \n",
              "108410  7.8394  13.5542   4.6399  ...  5.4835 -7.7614   6.6790  20.1156   \n",
              "11225   7.0591  13.9706   9.0683  ...  5.6321  0.9122   5.8129  29.6557   \n",
              "...        ...      ...      ...  ...     ...     ...      ...      ...   \n",
              "113262  7.9472  13.9818   5.5766  ...  5.1907  4.7215   8.3551  11.5238   \n",
              "77041   7.0191  14.1866  10.8823  ...  5.3677 -1.1919  -3.0133  11.2691   \n",
              "140384  9.4809  14.0046   4.0410  ...  5.7621 -4.8409  -5.3604  28.7248   \n",
              "92232   7.1366  13.6848   1.8151  ...  5.0159 -5.0506  10.5710  20.8262   \n",
              "142238  9.6666  13.9360   8.1801  ...  4.9562 -3.4741  -2.8134  25.2492   \n",
              "\n",
              "        var_44   var_45   var_46   var_47  var_48   var_49  \n",
              "120451 -1.5085  19.0707  -1.4546  11.0212  3.9427  15.2486  \n",
              "49957   0.9155  20.4802   1.2372   8.2602  1.6525  18.2520  \n",
              "115072  1.9091  23.0961  -0.5887  11.6499  0.9968  19.1727  \n",
              "108410  5.1390  34.8426   9.3475   5.7787 -1.3631   9.1764  \n",
              "11225   2.3944  16.7830   0.5090   5.5231  3.9902  17.9611  \n",
              "...        ...      ...      ...      ...     ...      ...  \n",
              "113262  0.0243   8.1783   5.6326   9.4474  1.4296  16.5557  \n",
              "77041   8.5292  28.9222  -0.7473  13.2256  0.5352  20.9588  \n",
              "140384  8.0450  19.2577  -1.6456   7.3530  0.0148  16.3762  \n",
              "92232   5.7932  16.4795  10.9472   2.6470  0.6851  20.0462  \n",
              "142238  6.5266   5.7292   8.9390   9.8395  2.8203  13.6165  \n",
              "\n",
              "[100 rows x 53 columns]"
            ],
            "text/html": [
              "\n",
              "  <div id=\"df-38a86d8d-5656-4d61-9569-79c0b5181f9b\" class=\"colab-df-container\">\n",
              "    <div>\n",
              "<style scoped>\n",
              "    .dataframe tbody tr th:only-of-type {\n",
              "        vertical-align: middle;\n",
              "    }\n",
              "\n",
              "    .dataframe tbody tr th {\n",
              "        vertical-align: top;\n",
              "    }\n",
              "\n",
              "    .dataframe thead th {\n",
              "        text-align: right;\n",
              "    }\n",
              "</style>\n",
              "<table border=\"1\" class=\"dataframe\">\n",
              "  <thead>\n",
              "    <tr style=\"text-align: right;\">\n",
              "      <th></th>\n",
              "      <th>Unnamed: 0</th>\n",
              "      <th>ID_code</th>\n",
              "      <th>target</th>\n",
              "      <th>var_0</th>\n",
              "      <th>var_1</th>\n",
              "      <th>var_2</th>\n",
              "      <th>var_3</th>\n",
              "      <th>var_4</th>\n",
              "      <th>var_5</th>\n",
              "      <th>var_6</th>\n",
              "      <th>...</th>\n",
              "      <th>var_40</th>\n",
              "      <th>var_41</th>\n",
              "      <th>var_42</th>\n",
              "      <th>var_43</th>\n",
              "      <th>var_44</th>\n",
              "      <th>var_45</th>\n",
              "      <th>var_46</th>\n",
              "      <th>var_47</th>\n",
              "      <th>var_48</th>\n",
              "      <th>var_49</th>\n",
              "    </tr>\n",
              "  </thead>\n",
              "  <tbody>\n",
              "    <tr>\n",
              "      <th>120451</th>\n",
              "      <td>120451</td>\n",
              "      <td>train_120451</td>\n",
              "      <td>0</td>\n",
              "      <td>11.2811</td>\n",
              "      <td>4.7879</td>\n",
              "      <td>9.6031</td>\n",
              "      <td>6.6646</td>\n",
              "      <td>8.8750</td>\n",
              "      <td>14.2753</td>\n",
              "      <td>15.1446</td>\n",
              "      <td>...</td>\n",
              "      <td>5.6793</td>\n",
              "      <td>-4.8303</td>\n",
              "      <td>-10.6003</td>\n",
              "      <td>24.1287</td>\n",
              "      <td>-1.5085</td>\n",
              "      <td>19.0707</td>\n",
              "      <td>-1.4546</td>\n",
              "      <td>11.0212</td>\n",
              "      <td>3.9427</td>\n",
              "      <td>15.2486</td>\n",
              "    </tr>\n",
              "    <tr>\n",
              "      <th>49957</th>\n",
              "      <td>49957</td>\n",
              "      <td>train_49957</td>\n",
              "      <td>0</td>\n",
              "      <td>16.1763</td>\n",
              "      <td>-6.0137</td>\n",
              "      <td>8.3845</td>\n",
              "      <td>5.6125</td>\n",
              "      <td>8.1183</td>\n",
              "      <td>14.2124</td>\n",
              "      <td>11.6687</td>\n",
              "      <td>...</td>\n",
              "      <td>6.2236</td>\n",
              "      <td>0.3856</td>\n",
              "      <td>4.7783</td>\n",
              "      <td>25.0809</td>\n",
              "      <td>0.9155</td>\n",
              "      <td>20.4802</td>\n",
              "      <td>1.2372</td>\n",
              "      <td>8.2602</td>\n",
              "      <td>1.6525</td>\n",
              "      <td>18.2520</td>\n",
              "    </tr>\n",
              "    <tr>\n",
              "      <th>115072</th>\n",
              "      <td>115072</td>\n",
              "      <td>train_115072</td>\n",
              "      <td>0</td>\n",
              "      <td>11.5778</td>\n",
              "      <td>4.0513</td>\n",
              "      <td>11.0615</td>\n",
              "      <td>5.9291</td>\n",
              "      <td>8.5484</td>\n",
              "      <td>13.8261</td>\n",
              "      <td>10.0410</td>\n",
              "      <td>...</td>\n",
              "      <td>6.2507</td>\n",
              "      <td>3.1608</td>\n",
              "      <td>-4.4164</td>\n",
              "      <td>17.7447</td>\n",
              "      <td>1.9091</td>\n",
              "      <td>23.0961</td>\n",
              "      <td>-0.5887</td>\n",
              "      <td>11.6499</td>\n",
              "      <td>0.9968</td>\n",
              "      <td>19.1727</td>\n",
              "    </tr>\n",
              "    <tr>\n",
              "      <th>108410</th>\n",
              "      <td>108410</td>\n",
              "      <td>train_108410</td>\n",
              "      <td>0</td>\n",
              "      <td>8.8475</td>\n",
              "      <td>-2.9646</td>\n",
              "      <td>12.9073</td>\n",
              "      <td>4.2131</td>\n",
              "      <td>7.8394</td>\n",
              "      <td>13.5542</td>\n",
              "      <td>4.6399</td>\n",
              "      <td>...</td>\n",
              "      <td>5.4835</td>\n",
              "      <td>-7.7614</td>\n",
              "      <td>6.6790</td>\n",
              "      <td>20.1156</td>\n",
              "      <td>5.1390</td>\n",
              "      <td>34.8426</td>\n",
              "      <td>9.3475</td>\n",
              "      <td>5.7787</td>\n",
              "      <td>-1.3631</td>\n",
              "      <td>9.1764</td>\n",
              "    </tr>\n",
              "    <tr>\n",
              "      <th>11225</th>\n",
              "      <td>11225</td>\n",
              "      <td>train_11225</td>\n",
              "      <td>0</td>\n",
              "      <td>13.4892</td>\n",
              "      <td>-4.6375</td>\n",
              "      <td>14.0525</td>\n",
              "      <td>4.8566</td>\n",
              "      <td>7.0591</td>\n",
              "      <td>13.9706</td>\n",
              "      <td>9.0683</td>\n",
              "      <td>...</td>\n",
              "      <td>5.6321</td>\n",
              "      <td>0.9122</td>\n",
              "      <td>5.8129</td>\n",
              "      <td>29.6557</td>\n",
              "      <td>2.3944</td>\n",
              "      <td>16.7830</td>\n",
              "      <td>0.5090</td>\n",
              "      <td>5.5231</td>\n",
              "      <td>3.9902</td>\n",
              "      <td>17.9611</td>\n",
              "    </tr>\n",
              "    <tr>\n",
              "      <th>...</th>\n",
              "      <td>...</td>\n",
              "      <td>...</td>\n",
              "      <td>...</td>\n",
              "      <td>...</td>\n",
              "      <td>...</td>\n",
              "      <td>...</td>\n",
              "      <td>...</td>\n",
              "      <td>...</td>\n",
              "      <td>...</td>\n",
              "      <td>...</td>\n",
              "      <td>...</td>\n",
              "      <td>...</td>\n",
              "      <td>...</td>\n",
              "      <td>...</td>\n",
              "      <td>...</td>\n",
              "      <td>...</td>\n",
              "      <td>...</td>\n",
              "      <td>...</td>\n",
              "      <td>...</td>\n",
              "      <td>...</td>\n",
              "      <td>...</td>\n",
              "    </tr>\n",
              "    <tr>\n",
              "      <th>113262</th>\n",
              "      <td>113262</td>\n",
              "      <td>train_113262</td>\n",
              "      <td>0</td>\n",
              "      <td>8.2047</td>\n",
              "      <td>0.4654</td>\n",
              "      <td>14.2480</td>\n",
              "      <td>6.3029</td>\n",
              "      <td>7.9472</td>\n",
              "      <td>13.9818</td>\n",
              "      <td>5.5766</td>\n",
              "      <td>...</td>\n",
              "      <td>5.1907</td>\n",
              "      <td>4.7215</td>\n",
              "      <td>8.3551</td>\n",
              "      <td>11.5238</td>\n",
              "      <td>0.0243</td>\n",
              "      <td>8.1783</td>\n",
              "      <td>5.6326</td>\n",
              "      <td>9.4474</td>\n",
              "      <td>1.4296</td>\n",
              "      <td>16.5557</td>\n",
              "    </tr>\n",
              "    <tr>\n",
              "      <th>77041</th>\n",
              "      <td>77041</td>\n",
              "      <td>train_77041</td>\n",
              "      <td>0</td>\n",
              "      <td>4.6997</td>\n",
              "      <td>1.3306</td>\n",
              "      <td>9.7885</td>\n",
              "      <td>5.2227</td>\n",
              "      <td>7.0191</td>\n",
              "      <td>14.1866</td>\n",
              "      <td>10.8823</td>\n",
              "      <td>...</td>\n",
              "      <td>5.3677</td>\n",
              "      <td>-1.1919</td>\n",
              "      <td>-3.0133</td>\n",
              "      <td>11.2691</td>\n",
              "      <td>8.5292</td>\n",
              "      <td>28.9222</td>\n",
              "      <td>-0.7473</td>\n",
              "      <td>13.2256</td>\n",
              "      <td>0.5352</td>\n",
              "      <td>20.9588</td>\n",
              "    </tr>\n",
              "    <tr>\n",
              "      <th>140384</th>\n",
              "      <td>140384</td>\n",
              "      <td>train_140384</td>\n",
              "      <td>1</td>\n",
              "      <td>13.9833</td>\n",
              "      <td>1.9758</td>\n",
              "      <td>11.9405</td>\n",
              "      <td>4.4079</td>\n",
              "      <td>9.4809</td>\n",
              "      <td>14.0046</td>\n",
              "      <td>4.0410</td>\n",
              "      <td>...</td>\n",
              "      <td>5.7621</td>\n",
              "      <td>-4.8409</td>\n",
              "      <td>-5.3604</td>\n",
              "      <td>28.7248</td>\n",
              "      <td>8.0450</td>\n",
              "      <td>19.2577</td>\n",
              "      <td>-1.6456</td>\n",
              "      <td>7.3530</td>\n",
              "      <td>0.0148</td>\n",
              "      <td>16.3762</td>\n",
              "    </tr>\n",
              "    <tr>\n",
              "      <th>92232</th>\n",
              "      <td>92232</td>\n",
              "      <td>train_92232</td>\n",
              "      <td>0</td>\n",
              "      <td>12.7798</td>\n",
              "      <td>2.6713</td>\n",
              "      <td>13.7355</td>\n",
              "      <td>6.0255</td>\n",
              "      <td>7.1366</td>\n",
              "      <td>13.6848</td>\n",
              "      <td>1.8151</td>\n",
              "      <td>...</td>\n",
              "      <td>5.0159</td>\n",
              "      <td>-5.0506</td>\n",
              "      <td>10.5710</td>\n",
              "      <td>20.8262</td>\n",
              "      <td>5.7932</td>\n",
              "      <td>16.4795</td>\n",
              "      <td>10.9472</td>\n",
              "      <td>2.6470</td>\n",
              "      <td>0.6851</td>\n",
              "      <td>20.0462</td>\n",
              "    </tr>\n",
              "    <tr>\n",
              "      <th>142238</th>\n",
              "      <td>142238</td>\n",
              "      <td>train_142238</td>\n",
              "      <td>0</td>\n",
              "      <td>10.6300</td>\n",
              "      <td>-9.7146</td>\n",
              "      <td>12.4968</td>\n",
              "      <td>6.3084</td>\n",
              "      <td>9.6666</td>\n",
              "      <td>13.9360</td>\n",
              "      <td>8.1801</td>\n",
              "      <td>...</td>\n",
              "      <td>4.9562</td>\n",
              "      <td>-3.4741</td>\n",
              "      <td>-2.8134</td>\n",
              "      <td>25.2492</td>\n",
              "      <td>6.5266</td>\n",
              "      <td>5.7292</td>\n",
              "      <td>8.9390</td>\n",
              "      <td>9.8395</td>\n",
              "      <td>2.8203</td>\n",
              "      <td>13.6165</td>\n",
              "    </tr>\n",
              "  </tbody>\n",
              "</table>\n",
              "<p>100 rows × 53 columns</p>\n",
              "</div>\n",
              "    <div class=\"colab-df-buttons\">\n",
              "\n",
              "  <div class=\"colab-df-container\">\n",
              "    <button class=\"colab-df-convert\" onclick=\"convertToInteractive('df-38a86d8d-5656-4d61-9569-79c0b5181f9b')\"\n",
              "            title=\"Convert this dataframe to an interactive table.\"\n",
              "            style=\"display:none;\">\n",
              "\n",
              "  <svg xmlns=\"http://www.w3.org/2000/svg\" height=\"24px\" viewBox=\"0 -960 960 960\">\n",
              "    <path d=\"M120-120v-720h720v720H120Zm60-500h600v-160H180v160Zm220 220h160v-160H400v160Zm0 220h160v-160H400v160ZM180-400h160v-160H180v160Zm440 0h160v-160H620v160ZM180-180h160v-160H180v160Zm440 0h160v-160H620v160Z\"/>\n",
              "  </svg>\n",
              "    </button>\n",
              "\n",
              "  <style>\n",
              "    .colab-df-container {\n",
              "      display:flex;\n",
              "      gap: 12px;\n",
              "    }\n",
              "\n",
              "    .colab-df-convert {\n",
              "      background-color: #E8F0FE;\n",
              "      border: none;\n",
              "      border-radius: 50%;\n",
              "      cursor: pointer;\n",
              "      display: none;\n",
              "      fill: #1967D2;\n",
              "      height: 32px;\n",
              "      padding: 0 0 0 0;\n",
              "      width: 32px;\n",
              "    }\n",
              "\n",
              "    .colab-df-convert:hover {\n",
              "      background-color: #E2EBFA;\n",
              "      box-shadow: 0px 1px 2px rgba(60, 64, 67, 0.3), 0px 1px 3px 1px rgba(60, 64, 67, 0.15);\n",
              "      fill: #174EA6;\n",
              "    }\n",
              "\n",
              "    .colab-df-buttons div {\n",
              "      margin-bottom: 4px;\n",
              "    }\n",
              "\n",
              "    [theme=dark] .colab-df-convert {\n",
              "      background-color: #3B4455;\n",
              "      fill: #D2E3FC;\n",
              "    }\n",
              "\n",
              "    [theme=dark] .colab-df-convert:hover {\n",
              "      background-color: #434B5C;\n",
              "      box-shadow: 0px 1px 3px 1px rgba(0, 0, 0, 0.15);\n",
              "      filter: drop-shadow(0px 1px 2px rgba(0, 0, 0, 0.3));\n",
              "      fill: #FFFFFF;\n",
              "    }\n",
              "  </style>\n",
              "\n",
              "    <script>\n",
              "      const buttonEl =\n",
              "        document.querySelector('#df-38a86d8d-5656-4d61-9569-79c0b5181f9b button.colab-df-convert');\n",
              "      buttonEl.style.display =\n",
              "        google.colab.kernel.accessAllowed ? 'block' : 'none';\n",
              "\n",
              "      async function convertToInteractive(key) {\n",
              "        const element = document.querySelector('#df-38a86d8d-5656-4d61-9569-79c0b5181f9b');\n",
              "        const dataTable =\n",
              "          await google.colab.kernel.invokeFunction('convertToInteractive',\n",
              "                                                    [key], {});\n",
              "        if (!dataTable) return;\n",
              "\n",
              "        const docLinkHtml = 'Like what you see? Visit the ' +\n",
              "          '<a target=\"_blank\" href=https://colab.research.google.com/notebooks/data_table.ipynb>data table notebook</a>'\n",
              "          + ' to learn more about interactive tables.';\n",
              "        element.innerHTML = '';\n",
              "        dataTable['output_type'] = 'display_data';\n",
              "        await google.colab.output.renderOutput(dataTable, element);\n",
              "        const docLink = document.createElement('div');\n",
              "        docLink.innerHTML = docLinkHtml;\n",
              "        element.appendChild(docLink);\n",
              "      }\n",
              "    </script>\n",
              "  </div>\n",
              "\n",
              "\n",
              "<div id=\"df-480c3a84-9436-4a2f-b5cf-2c87926f5ec5\">\n",
              "  <button class=\"colab-df-quickchart\" onclick=\"quickchart('df-480c3a84-9436-4a2f-b5cf-2c87926f5ec5')\"\n",
              "            title=\"Suggest charts\"\n",
              "            style=\"display:none;\">\n",
              "\n",
              "<svg xmlns=\"http://www.w3.org/2000/svg\" height=\"24px\"viewBox=\"0 0 24 24\"\n",
              "     width=\"24px\">\n",
              "    <g>\n",
              "        <path d=\"M19 3H5c-1.1 0-2 .9-2 2v14c0 1.1.9 2 2 2h14c1.1 0 2-.9 2-2V5c0-1.1-.9-2-2-2zM9 17H7v-7h2v7zm4 0h-2V7h2v10zm4 0h-2v-4h2v4z\"/>\n",
              "    </g>\n",
              "</svg>\n",
              "  </button>\n",
              "\n",
              "<style>\n",
              "  .colab-df-quickchart {\n",
              "      --bg-color: #E8F0FE;\n",
              "      --fill-color: #1967D2;\n",
              "      --hover-bg-color: #E2EBFA;\n",
              "      --hover-fill-color: #174EA6;\n",
              "      --disabled-fill-color: #AAA;\n",
              "      --disabled-bg-color: #DDD;\n",
              "  }\n",
              "\n",
              "  [theme=dark] .colab-df-quickchart {\n",
              "      --bg-color: #3B4455;\n",
              "      --fill-color: #D2E3FC;\n",
              "      --hover-bg-color: #434B5C;\n",
              "      --hover-fill-color: #FFFFFF;\n",
              "      --disabled-bg-color: #3B4455;\n",
              "      --disabled-fill-color: #666;\n",
              "  }\n",
              "\n",
              "  .colab-df-quickchart {\n",
              "    background-color: var(--bg-color);\n",
              "    border: none;\n",
              "    border-radius: 50%;\n",
              "    cursor: pointer;\n",
              "    display: none;\n",
              "    fill: var(--fill-color);\n",
              "    height: 32px;\n",
              "    padding: 0;\n",
              "    width: 32px;\n",
              "  }\n",
              "\n",
              "  .colab-df-quickchart:hover {\n",
              "    background-color: var(--hover-bg-color);\n",
              "    box-shadow: 0 1px 2px rgba(60, 64, 67, 0.3), 0 1px 3px 1px rgba(60, 64, 67, 0.15);\n",
              "    fill: var(--button-hover-fill-color);\n",
              "  }\n",
              "\n",
              "  .colab-df-quickchart-complete:disabled,\n",
              "  .colab-df-quickchart-complete:disabled:hover {\n",
              "    background-color: var(--disabled-bg-color);\n",
              "    fill: var(--disabled-fill-color);\n",
              "    box-shadow: none;\n",
              "  }\n",
              "\n",
              "  .colab-df-spinner {\n",
              "    border: 2px solid var(--fill-color);\n",
              "    border-color: transparent;\n",
              "    border-bottom-color: var(--fill-color);\n",
              "    animation:\n",
              "      spin 1s steps(1) infinite;\n",
              "  }\n",
              "\n",
              "  @keyframes spin {\n",
              "    0% {\n",
              "      border-color: transparent;\n",
              "      border-bottom-color: var(--fill-color);\n",
              "      border-left-color: var(--fill-color);\n",
              "    }\n",
              "    20% {\n",
              "      border-color: transparent;\n",
              "      border-left-color: var(--fill-color);\n",
              "      border-top-color: var(--fill-color);\n",
              "    }\n",
              "    30% {\n",
              "      border-color: transparent;\n",
              "      border-left-color: var(--fill-color);\n",
              "      border-top-color: var(--fill-color);\n",
              "      border-right-color: var(--fill-color);\n",
              "    }\n",
              "    40% {\n",
              "      border-color: transparent;\n",
              "      border-right-color: var(--fill-color);\n",
              "      border-top-color: var(--fill-color);\n",
              "    }\n",
              "    60% {\n",
              "      border-color: transparent;\n",
              "      border-right-color: var(--fill-color);\n",
              "    }\n",
              "    80% {\n",
              "      border-color: transparent;\n",
              "      border-right-color: var(--fill-color);\n",
              "      border-bottom-color: var(--fill-color);\n",
              "    }\n",
              "    90% {\n",
              "      border-color: transparent;\n",
              "      border-bottom-color: var(--fill-color);\n",
              "    }\n",
              "  }\n",
              "</style>\n",
              "\n",
              "  <script>\n",
              "    async function quickchart(key) {\n",
              "      const quickchartButtonEl =\n",
              "        document.querySelector('#' + key + ' button');\n",
              "      quickchartButtonEl.disabled = true;  // To prevent multiple clicks.\n",
              "      quickchartButtonEl.classList.add('colab-df-spinner');\n",
              "      try {\n",
              "        const charts = await google.colab.kernel.invokeFunction(\n",
              "            'suggestCharts', [key], {});\n",
              "      } catch (error) {\n",
              "        console.error('Error during call to suggestCharts:', error);\n",
              "      }\n",
              "      quickchartButtonEl.classList.remove('colab-df-spinner');\n",
              "      quickchartButtonEl.classList.add('colab-df-quickchart-complete');\n",
              "    }\n",
              "    (() => {\n",
              "      let quickchartButtonEl =\n",
              "        document.querySelector('#df-480c3a84-9436-4a2f-b5cf-2c87926f5ec5 button');\n",
              "      quickchartButtonEl.style.display =\n",
              "        google.colab.kernel.accessAllowed ? 'block' : 'none';\n",
              "    })();\n",
              "  </script>\n",
              "</div>\n",
              "\n",
              "    </div>\n",
              "  </div>\n"
            ],
            "application/vnd.google.colaboratory.intrinsic+json": {
              "type": "dataframe"
            }
          },
          "metadata": {},
          "execution_count": 414
        }
      ]
    },
    {
      "cell_type": "markdown",
      "source": [
        "## My Cleaning Recommendations\n",
        "Unnamed: 0 and ID_code appear to have unusable data.\n",
        "- Unnamed: 0 data is simply listing the position of the row which isnt helpful for our purposes\n",
        "- ID_code is \"object\" data type"
      ],
      "metadata": {
        "id": "5cQ1O9I5zRqW"
      }
    },
    {
      "cell_type": "markdown",
      "source": [
        "## Copy of trans_data_df\n",
        "= trans_data_copy to trans_data_copy_2"
      ],
      "metadata": {
        "id": "g5rbiWBAdOPc"
      }
    },
    {
      "cell_type": "code",
      "source": [
        "trans_data_copy = trans_data_df.copy()"
      ],
      "metadata": {
        "id": "cV_Py5RyzWeY"
      },
      "execution_count": 415,
      "outputs": []
    },
    {
      "cell_type": "markdown",
      "source": [
        "#### drop columns that seem to have un-corroborative data"
      ],
      "metadata": {
        "id": "zSW4u0T0ydFx"
      }
    },
    {
      "cell_type": "code",
      "source": [
        "trans_data_drop1 = trans_data_copy.drop(\"Unnamed: 0\", axis=1)"
      ],
      "metadata": {
        "id": "a0hWafeuqqLd"
      },
      "execution_count": 416,
      "outputs": []
    },
    {
      "cell_type": "code",
      "source": [
        "trans_data_drop2 = trans_data_drop1.drop(\"ID_code\", axis=1)"
      ],
      "metadata": {
        "id": "AnKntbUnrere"
      },
      "execution_count": 417,
      "outputs": []
    },
    {
      "cell_type": "code",
      "source": [
        "trans_data_copy_2 = trans_data_drop2.copy()"
      ],
      "metadata": {
        "id": "MavCLtiRsDjL"
      },
      "execution_count": 418,
      "outputs": []
    },
    {
      "cell_type": "markdown",
      "source": [
        "#### check for null values"
      ],
      "metadata": {
        "id": "8E7jSjfyyW6P"
      }
    },
    {
      "cell_type": "code",
      "source": [
        "trans_data_copy_2.isnull().sum()"
      ],
      "metadata": {
        "colab": {
          "base_uri": "https://localhost:8080/",
          "height": 1000
        },
        "id": "jnHnXt3yvC6P",
        "outputId": "607a4846-9150-4cce-c417-3a9981446adc"
      },
      "execution_count": 419,
      "outputs": [
        {
          "output_type": "execute_result",
          "data": {
            "text/plain": [
              "target    0\n",
              "var_0     0\n",
              "var_1     0\n",
              "var_2     0\n",
              "var_3     0\n",
              "var_4     0\n",
              "var_5     0\n",
              "var_6     0\n",
              "var_7     0\n",
              "var_8     0\n",
              "var_9     0\n",
              "var_10    0\n",
              "var_11    0\n",
              "var_12    0\n",
              "var_13    0\n",
              "var_14    0\n",
              "var_15    0\n",
              "var_16    0\n",
              "var_17    0\n",
              "var_18    0\n",
              "var_19    0\n",
              "var_20    0\n",
              "var_21    0\n",
              "var_22    0\n",
              "var_23    0\n",
              "var_24    0\n",
              "var_25    0\n",
              "var_26    0\n",
              "var_27    0\n",
              "var_28    0\n",
              "var_29    0\n",
              "var_30    0\n",
              "var_31    0\n",
              "var_32    0\n",
              "var_33    0\n",
              "var_34    0\n",
              "var_35    0\n",
              "var_36    0\n",
              "var_37    0\n",
              "var_38    0\n",
              "var_39    0\n",
              "var_40    0\n",
              "var_41    0\n",
              "var_42    0\n",
              "var_43    0\n",
              "var_44    0\n",
              "var_45    0\n",
              "var_46    0\n",
              "var_47    0\n",
              "var_48    0\n",
              "var_49    0\n",
              "dtype: int64"
            ],
            "text/html": [
              "<div>\n",
              "<style scoped>\n",
              "    .dataframe tbody tr th:only-of-type {\n",
              "        vertical-align: middle;\n",
              "    }\n",
              "\n",
              "    .dataframe tbody tr th {\n",
              "        vertical-align: top;\n",
              "    }\n",
              "\n",
              "    .dataframe thead th {\n",
              "        text-align: right;\n",
              "    }\n",
              "</style>\n",
              "<table border=\"1\" class=\"dataframe\">\n",
              "  <thead>\n",
              "    <tr style=\"text-align: right;\">\n",
              "      <th></th>\n",
              "      <th>0</th>\n",
              "    </tr>\n",
              "  </thead>\n",
              "  <tbody>\n",
              "    <tr>\n",
              "      <th>target</th>\n",
              "      <td>0</td>\n",
              "    </tr>\n",
              "    <tr>\n",
              "      <th>var_0</th>\n",
              "      <td>0</td>\n",
              "    </tr>\n",
              "    <tr>\n",
              "      <th>var_1</th>\n",
              "      <td>0</td>\n",
              "    </tr>\n",
              "    <tr>\n",
              "      <th>var_2</th>\n",
              "      <td>0</td>\n",
              "    </tr>\n",
              "    <tr>\n",
              "      <th>var_3</th>\n",
              "      <td>0</td>\n",
              "    </tr>\n",
              "    <tr>\n",
              "      <th>var_4</th>\n",
              "      <td>0</td>\n",
              "    </tr>\n",
              "    <tr>\n",
              "      <th>var_5</th>\n",
              "      <td>0</td>\n",
              "    </tr>\n",
              "    <tr>\n",
              "      <th>var_6</th>\n",
              "      <td>0</td>\n",
              "    </tr>\n",
              "    <tr>\n",
              "      <th>var_7</th>\n",
              "      <td>0</td>\n",
              "    </tr>\n",
              "    <tr>\n",
              "      <th>var_8</th>\n",
              "      <td>0</td>\n",
              "    </tr>\n",
              "    <tr>\n",
              "      <th>var_9</th>\n",
              "      <td>0</td>\n",
              "    </tr>\n",
              "    <tr>\n",
              "      <th>var_10</th>\n",
              "      <td>0</td>\n",
              "    </tr>\n",
              "    <tr>\n",
              "      <th>var_11</th>\n",
              "      <td>0</td>\n",
              "    </tr>\n",
              "    <tr>\n",
              "      <th>var_12</th>\n",
              "      <td>0</td>\n",
              "    </tr>\n",
              "    <tr>\n",
              "      <th>var_13</th>\n",
              "      <td>0</td>\n",
              "    </tr>\n",
              "    <tr>\n",
              "      <th>var_14</th>\n",
              "      <td>0</td>\n",
              "    </tr>\n",
              "    <tr>\n",
              "      <th>var_15</th>\n",
              "      <td>0</td>\n",
              "    </tr>\n",
              "    <tr>\n",
              "      <th>var_16</th>\n",
              "      <td>0</td>\n",
              "    </tr>\n",
              "    <tr>\n",
              "      <th>var_17</th>\n",
              "      <td>0</td>\n",
              "    </tr>\n",
              "    <tr>\n",
              "      <th>var_18</th>\n",
              "      <td>0</td>\n",
              "    </tr>\n",
              "    <tr>\n",
              "      <th>var_19</th>\n",
              "      <td>0</td>\n",
              "    </tr>\n",
              "    <tr>\n",
              "      <th>var_20</th>\n",
              "      <td>0</td>\n",
              "    </tr>\n",
              "    <tr>\n",
              "      <th>var_21</th>\n",
              "      <td>0</td>\n",
              "    </tr>\n",
              "    <tr>\n",
              "      <th>var_22</th>\n",
              "      <td>0</td>\n",
              "    </tr>\n",
              "    <tr>\n",
              "      <th>var_23</th>\n",
              "      <td>0</td>\n",
              "    </tr>\n",
              "    <tr>\n",
              "      <th>var_24</th>\n",
              "      <td>0</td>\n",
              "    </tr>\n",
              "    <tr>\n",
              "      <th>var_25</th>\n",
              "      <td>0</td>\n",
              "    </tr>\n",
              "    <tr>\n",
              "      <th>var_26</th>\n",
              "      <td>0</td>\n",
              "    </tr>\n",
              "    <tr>\n",
              "      <th>var_27</th>\n",
              "      <td>0</td>\n",
              "    </tr>\n",
              "    <tr>\n",
              "      <th>var_28</th>\n",
              "      <td>0</td>\n",
              "    </tr>\n",
              "    <tr>\n",
              "      <th>var_29</th>\n",
              "      <td>0</td>\n",
              "    </tr>\n",
              "    <tr>\n",
              "      <th>var_30</th>\n",
              "      <td>0</td>\n",
              "    </tr>\n",
              "    <tr>\n",
              "      <th>var_31</th>\n",
              "      <td>0</td>\n",
              "    </tr>\n",
              "    <tr>\n",
              "      <th>var_32</th>\n",
              "      <td>0</td>\n",
              "    </tr>\n",
              "    <tr>\n",
              "      <th>var_33</th>\n",
              "      <td>0</td>\n",
              "    </tr>\n",
              "    <tr>\n",
              "      <th>var_34</th>\n",
              "      <td>0</td>\n",
              "    </tr>\n",
              "    <tr>\n",
              "      <th>var_35</th>\n",
              "      <td>0</td>\n",
              "    </tr>\n",
              "    <tr>\n",
              "      <th>var_36</th>\n",
              "      <td>0</td>\n",
              "    </tr>\n",
              "    <tr>\n",
              "      <th>var_37</th>\n",
              "      <td>0</td>\n",
              "    </tr>\n",
              "    <tr>\n",
              "      <th>var_38</th>\n",
              "      <td>0</td>\n",
              "    </tr>\n",
              "    <tr>\n",
              "      <th>var_39</th>\n",
              "      <td>0</td>\n",
              "    </tr>\n",
              "    <tr>\n",
              "      <th>var_40</th>\n",
              "      <td>0</td>\n",
              "    </tr>\n",
              "    <tr>\n",
              "      <th>var_41</th>\n",
              "      <td>0</td>\n",
              "    </tr>\n",
              "    <tr>\n",
              "      <th>var_42</th>\n",
              "      <td>0</td>\n",
              "    </tr>\n",
              "    <tr>\n",
              "      <th>var_43</th>\n",
              "      <td>0</td>\n",
              "    </tr>\n",
              "    <tr>\n",
              "      <th>var_44</th>\n",
              "      <td>0</td>\n",
              "    </tr>\n",
              "    <tr>\n",
              "      <th>var_45</th>\n",
              "      <td>0</td>\n",
              "    </tr>\n",
              "    <tr>\n",
              "      <th>var_46</th>\n",
              "      <td>0</td>\n",
              "    </tr>\n",
              "    <tr>\n",
              "      <th>var_47</th>\n",
              "      <td>0</td>\n",
              "    </tr>\n",
              "    <tr>\n",
              "      <th>var_48</th>\n",
              "      <td>0</td>\n",
              "    </tr>\n",
              "    <tr>\n",
              "      <th>var_49</th>\n",
              "      <td>0</td>\n",
              "    </tr>\n",
              "  </tbody>\n",
              "</table>\n",
              "</div><br><label><b>dtype:</b> int64</label>"
            ]
          },
          "metadata": {},
          "execution_count": 419
        }
      ]
    },
    {
      "cell_type": "markdown",
      "source": [],
      "metadata": {
        "id": "16xZSLrLVtyN"
      }
    },
    {
      "cell_type": "markdown",
      "source": [
        "#### Mean, Median, Mode"
      ],
      "metadata": {
        "id": "5pv0UOcVhJDc"
      }
    },
    {
      "cell_type": "code",
      "source": [
        "trans_data_copy_2.describe()"
      ],
      "metadata": {
        "colab": {
          "base_uri": "https://localhost:8080/",
          "height": 350
        },
        "id": "IHQNR6-fhPOT",
        "outputId": "d4abf5fe-b5cd-4cc7-a54d-aa14e143010e"
      },
      "execution_count": 420,
      "outputs": [
        {
          "output_type": "execute_result",
          "data": {
            "text/plain": [
              "              target          var_0          var_1          var_2  \\\n",
              "count  180000.000000  180000.000000  180000.000000  180000.000000   \n",
              "mean        0.100222      10.678650      -1.630045      10.712922   \n",
              "std         0.300297       3.041036       4.050519       2.639146   \n",
              "min         0.000000       0.408400     -15.043400       2.117100   \n",
              "25%         0.000000       8.451675      -4.745600       8.720000   \n",
              "50%         0.000000      10.526750      -1.611250      10.579600   \n",
              "75%         0.000000      12.756200       1.360225      12.514100   \n",
              "max         1.000000      20.315000      10.376800      19.353000   \n",
              "\n",
              "               var_3          var_4          var_5         var_6  \\\n",
              "count  180000.000000  180000.000000  180000.000000  180000.00000   \n",
              "mean        5.408688       7.566953      14.024017       8.52808   \n",
              "std         0.866265       1.235043       0.190038       4.64170   \n",
              "min         2.347300       3.970500      13.434600      -6.01110   \n",
              "25%         4.768500       6.618800      13.893900       5.06575   \n",
              "50%         5.385600       7.628500      14.025500       8.59920   \n",
              "75%         6.003200       8.583800      14.164400      12.27330   \n",
              "max         8.447700      11.150600      14.654500      22.33150   \n",
              "\n",
              "               var_7          var_8  ...         var_40         var_41  \\\n",
              "count  180000.000000  180000.000000  ...  180000.000000  180000.000000   \n",
              "mean       15.243424      17.264876  ...       5.635897      -0.000418   \n",
              "std         7.851050       8.203204  ...       0.369629       4.422915   \n",
              "min       -10.664200     -10.089000  ...       4.258800     -14.506000   \n",
              "25%         9.170200      11.552000  ...       5.374200      -3.253575   \n",
              "50%        15.198900      17.246850  ...       5.634500       0.008500   \n",
              "75%        21.010500      23.100050  ...       5.905600       3.098325   \n",
              "max        41.748000      49.044300  ...       7.089000      16.731900   \n",
              "\n",
              "              var_42         var_43         var_44         var_45  \\\n",
              "count  180000.000000  180000.000000  180000.000000  180000.000000   \n",
              "mean       -0.668334      20.208845       2.595090      12.756574   \n",
              "std         5.968300       7.132446       2.801692       9.320939   \n",
              "min       -22.748700      -2.995300      -7.856100     -18.489700   \n",
              "25%        -4.997500      15.062900       0.628600       5.661300   \n",
              "50%        -0.560300      20.203300       2.513800      12.520300   \n",
              "75%         3.632525      25.639125       4.396725      19.461725   \n",
              "max        18.855400      43.546800      13.448700      44.363400   \n",
              "\n",
              "              var_46         var_47         var_48         var_49  \n",
              "count  180000.000000  180000.000000  180000.000000  180000.000000  \n",
              "mean        3.236201       7.440715       1.927078      15.870166  \n",
              "std         4.561317       3.021636       1.476777       3.010492  \n",
              "min       -14.093300      -2.691700      -3.814500       6.299300  \n",
              "25%        -0.062000       5.160325       0.890000      13.830400  \n",
              "50%         3.204650       7.350950       1.899700      15.934600  \n",
              "75%         6.409900       9.511125       2.947225      18.061425  \n",
              "max        18.440900      16.716500       8.402400      26.079100  \n",
              "\n",
              "[8 rows x 51 columns]"
            ],
            "text/html": [
              "\n",
              "  <div id=\"df-60df0997-7f1d-48ed-bd99-72a421b40986\" class=\"colab-df-container\">\n",
              "    <div>\n",
              "<style scoped>\n",
              "    .dataframe tbody tr th:only-of-type {\n",
              "        vertical-align: middle;\n",
              "    }\n",
              "\n",
              "    .dataframe tbody tr th {\n",
              "        vertical-align: top;\n",
              "    }\n",
              "\n",
              "    .dataframe thead th {\n",
              "        text-align: right;\n",
              "    }\n",
              "</style>\n",
              "<table border=\"1\" class=\"dataframe\">\n",
              "  <thead>\n",
              "    <tr style=\"text-align: right;\">\n",
              "      <th></th>\n",
              "      <th>target</th>\n",
              "      <th>var_0</th>\n",
              "      <th>var_1</th>\n",
              "      <th>var_2</th>\n",
              "      <th>var_3</th>\n",
              "      <th>var_4</th>\n",
              "      <th>var_5</th>\n",
              "      <th>var_6</th>\n",
              "      <th>var_7</th>\n",
              "      <th>var_8</th>\n",
              "      <th>...</th>\n",
              "      <th>var_40</th>\n",
              "      <th>var_41</th>\n",
              "      <th>var_42</th>\n",
              "      <th>var_43</th>\n",
              "      <th>var_44</th>\n",
              "      <th>var_45</th>\n",
              "      <th>var_46</th>\n",
              "      <th>var_47</th>\n",
              "      <th>var_48</th>\n",
              "      <th>var_49</th>\n",
              "    </tr>\n",
              "  </thead>\n",
              "  <tbody>\n",
              "    <tr>\n",
              "      <th>count</th>\n",
              "      <td>180000.000000</td>\n",
              "      <td>180000.000000</td>\n",
              "      <td>180000.000000</td>\n",
              "      <td>180000.000000</td>\n",
              "      <td>180000.000000</td>\n",
              "      <td>180000.000000</td>\n",
              "      <td>180000.000000</td>\n",
              "      <td>180000.00000</td>\n",
              "      <td>180000.000000</td>\n",
              "      <td>180000.000000</td>\n",
              "      <td>...</td>\n",
              "      <td>180000.000000</td>\n",
              "      <td>180000.000000</td>\n",
              "      <td>180000.000000</td>\n",
              "      <td>180000.000000</td>\n",
              "      <td>180000.000000</td>\n",
              "      <td>180000.000000</td>\n",
              "      <td>180000.000000</td>\n",
              "      <td>180000.000000</td>\n",
              "      <td>180000.000000</td>\n",
              "      <td>180000.000000</td>\n",
              "    </tr>\n",
              "    <tr>\n",
              "      <th>mean</th>\n",
              "      <td>0.100222</td>\n",
              "      <td>10.678650</td>\n",
              "      <td>-1.630045</td>\n",
              "      <td>10.712922</td>\n",
              "      <td>5.408688</td>\n",
              "      <td>7.566953</td>\n",
              "      <td>14.024017</td>\n",
              "      <td>8.52808</td>\n",
              "      <td>15.243424</td>\n",
              "      <td>17.264876</td>\n",
              "      <td>...</td>\n",
              "      <td>5.635897</td>\n",
              "      <td>-0.000418</td>\n",
              "      <td>-0.668334</td>\n",
              "      <td>20.208845</td>\n",
              "      <td>2.595090</td>\n",
              "      <td>12.756574</td>\n",
              "      <td>3.236201</td>\n",
              "      <td>7.440715</td>\n",
              "      <td>1.927078</td>\n",
              "      <td>15.870166</td>\n",
              "    </tr>\n",
              "    <tr>\n",
              "      <th>std</th>\n",
              "      <td>0.300297</td>\n",
              "      <td>3.041036</td>\n",
              "      <td>4.050519</td>\n",
              "      <td>2.639146</td>\n",
              "      <td>0.866265</td>\n",
              "      <td>1.235043</td>\n",
              "      <td>0.190038</td>\n",
              "      <td>4.64170</td>\n",
              "      <td>7.851050</td>\n",
              "      <td>8.203204</td>\n",
              "      <td>...</td>\n",
              "      <td>0.369629</td>\n",
              "      <td>4.422915</td>\n",
              "      <td>5.968300</td>\n",
              "      <td>7.132446</td>\n",
              "      <td>2.801692</td>\n",
              "      <td>9.320939</td>\n",
              "      <td>4.561317</td>\n",
              "      <td>3.021636</td>\n",
              "      <td>1.476777</td>\n",
              "      <td>3.010492</td>\n",
              "    </tr>\n",
              "    <tr>\n",
              "      <th>min</th>\n",
              "      <td>0.000000</td>\n",
              "      <td>0.408400</td>\n",
              "      <td>-15.043400</td>\n",
              "      <td>2.117100</td>\n",
              "      <td>2.347300</td>\n",
              "      <td>3.970500</td>\n",
              "      <td>13.434600</td>\n",
              "      <td>-6.01110</td>\n",
              "      <td>-10.664200</td>\n",
              "      <td>-10.089000</td>\n",
              "      <td>...</td>\n",
              "      <td>4.258800</td>\n",
              "      <td>-14.506000</td>\n",
              "      <td>-22.748700</td>\n",
              "      <td>-2.995300</td>\n",
              "      <td>-7.856100</td>\n",
              "      <td>-18.489700</td>\n",
              "      <td>-14.093300</td>\n",
              "      <td>-2.691700</td>\n",
              "      <td>-3.814500</td>\n",
              "      <td>6.299300</td>\n",
              "    </tr>\n",
              "    <tr>\n",
              "      <th>25%</th>\n",
              "      <td>0.000000</td>\n",
              "      <td>8.451675</td>\n",
              "      <td>-4.745600</td>\n",
              "      <td>8.720000</td>\n",
              "      <td>4.768500</td>\n",
              "      <td>6.618800</td>\n",
              "      <td>13.893900</td>\n",
              "      <td>5.06575</td>\n",
              "      <td>9.170200</td>\n",
              "      <td>11.552000</td>\n",
              "      <td>...</td>\n",
              "      <td>5.374200</td>\n",
              "      <td>-3.253575</td>\n",
              "      <td>-4.997500</td>\n",
              "      <td>15.062900</td>\n",
              "      <td>0.628600</td>\n",
              "      <td>5.661300</td>\n",
              "      <td>-0.062000</td>\n",
              "      <td>5.160325</td>\n",
              "      <td>0.890000</td>\n",
              "      <td>13.830400</td>\n",
              "    </tr>\n",
              "    <tr>\n",
              "      <th>50%</th>\n",
              "      <td>0.000000</td>\n",
              "      <td>10.526750</td>\n",
              "      <td>-1.611250</td>\n",
              "      <td>10.579600</td>\n",
              "      <td>5.385600</td>\n",
              "      <td>7.628500</td>\n",
              "      <td>14.025500</td>\n",
              "      <td>8.59920</td>\n",
              "      <td>15.198900</td>\n",
              "      <td>17.246850</td>\n",
              "      <td>...</td>\n",
              "      <td>5.634500</td>\n",
              "      <td>0.008500</td>\n",
              "      <td>-0.560300</td>\n",
              "      <td>20.203300</td>\n",
              "      <td>2.513800</td>\n",
              "      <td>12.520300</td>\n",
              "      <td>3.204650</td>\n",
              "      <td>7.350950</td>\n",
              "      <td>1.899700</td>\n",
              "      <td>15.934600</td>\n",
              "    </tr>\n",
              "    <tr>\n",
              "      <th>75%</th>\n",
              "      <td>0.000000</td>\n",
              "      <td>12.756200</td>\n",
              "      <td>1.360225</td>\n",
              "      <td>12.514100</td>\n",
              "      <td>6.003200</td>\n",
              "      <td>8.583800</td>\n",
              "      <td>14.164400</td>\n",
              "      <td>12.27330</td>\n",
              "      <td>21.010500</td>\n",
              "      <td>23.100050</td>\n",
              "      <td>...</td>\n",
              "      <td>5.905600</td>\n",
              "      <td>3.098325</td>\n",
              "      <td>3.632525</td>\n",
              "      <td>25.639125</td>\n",
              "      <td>4.396725</td>\n",
              "      <td>19.461725</td>\n",
              "      <td>6.409900</td>\n",
              "      <td>9.511125</td>\n",
              "      <td>2.947225</td>\n",
              "      <td>18.061425</td>\n",
              "    </tr>\n",
              "    <tr>\n",
              "      <th>max</th>\n",
              "      <td>1.000000</td>\n",
              "      <td>20.315000</td>\n",
              "      <td>10.376800</td>\n",
              "      <td>19.353000</td>\n",
              "      <td>8.447700</td>\n",
              "      <td>11.150600</td>\n",
              "      <td>14.654500</td>\n",
              "      <td>22.33150</td>\n",
              "      <td>41.748000</td>\n",
              "      <td>49.044300</td>\n",
              "      <td>...</td>\n",
              "      <td>7.089000</td>\n",
              "      <td>16.731900</td>\n",
              "      <td>18.855400</td>\n",
              "      <td>43.546800</td>\n",
              "      <td>13.448700</td>\n",
              "      <td>44.363400</td>\n",
              "      <td>18.440900</td>\n",
              "      <td>16.716500</td>\n",
              "      <td>8.402400</td>\n",
              "      <td>26.079100</td>\n",
              "    </tr>\n",
              "  </tbody>\n",
              "</table>\n",
              "<p>8 rows × 51 columns</p>\n",
              "</div>\n",
              "    <div class=\"colab-df-buttons\">\n",
              "\n",
              "  <div class=\"colab-df-container\">\n",
              "    <button class=\"colab-df-convert\" onclick=\"convertToInteractive('df-60df0997-7f1d-48ed-bd99-72a421b40986')\"\n",
              "            title=\"Convert this dataframe to an interactive table.\"\n",
              "            style=\"display:none;\">\n",
              "\n",
              "  <svg xmlns=\"http://www.w3.org/2000/svg\" height=\"24px\" viewBox=\"0 -960 960 960\">\n",
              "    <path d=\"M120-120v-720h720v720H120Zm60-500h600v-160H180v160Zm220 220h160v-160H400v160Zm0 220h160v-160H400v160ZM180-400h160v-160H180v160Zm440 0h160v-160H620v160ZM180-180h160v-160H180v160Zm440 0h160v-160H620v160Z\"/>\n",
              "  </svg>\n",
              "    </button>\n",
              "\n",
              "  <style>\n",
              "    .colab-df-container {\n",
              "      display:flex;\n",
              "      gap: 12px;\n",
              "    }\n",
              "\n",
              "    .colab-df-convert {\n",
              "      background-color: #E8F0FE;\n",
              "      border: none;\n",
              "      border-radius: 50%;\n",
              "      cursor: pointer;\n",
              "      display: none;\n",
              "      fill: #1967D2;\n",
              "      height: 32px;\n",
              "      padding: 0 0 0 0;\n",
              "      width: 32px;\n",
              "    }\n",
              "\n",
              "    .colab-df-convert:hover {\n",
              "      background-color: #E2EBFA;\n",
              "      box-shadow: 0px 1px 2px rgba(60, 64, 67, 0.3), 0px 1px 3px 1px rgba(60, 64, 67, 0.15);\n",
              "      fill: #174EA6;\n",
              "    }\n",
              "\n",
              "    .colab-df-buttons div {\n",
              "      margin-bottom: 4px;\n",
              "    }\n",
              "\n",
              "    [theme=dark] .colab-df-convert {\n",
              "      background-color: #3B4455;\n",
              "      fill: #D2E3FC;\n",
              "    }\n",
              "\n",
              "    [theme=dark] .colab-df-convert:hover {\n",
              "      background-color: #434B5C;\n",
              "      box-shadow: 0px 1px 3px 1px rgba(0, 0, 0, 0.15);\n",
              "      filter: drop-shadow(0px 1px 2px rgba(0, 0, 0, 0.3));\n",
              "      fill: #FFFFFF;\n",
              "    }\n",
              "  </style>\n",
              "\n",
              "    <script>\n",
              "      const buttonEl =\n",
              "        document.querySelector('#df-60df0997-7f1d-48ed-bd99-72a421b40986 button.colab-df-convert');\n",
              "      buttonEl.style.display =\n",
              "        google.colab.kernel.accessAllowed ? 'block' : 'none';\n",
              "\n",
              "      async function convertToInteractive(key) {\n",
              "        const element = document.querySelector('#df-60df0997-7f1d-48ed-bd99-72a421b40986');\n",
              "        const dataTable =\n",
              "          await google.colab.kernel.invokeFunction('convertToInteractive',\n",
              "                                                    [key], {});\n",
              "        if (!dataTable) return;\n",
              "\n",
              "        const docLinkHtml = 'Like what you see? Visit the ' +\n",
              "          '<a target=\"_blank\" href=https://colab.research.google.com/notebooks/data_table.ipynb>data table notebook</a>'\n",
              "          + ' to learn more about interactive tables.';\n",
              "        element.innerHTML = '';\n",
              "        dataTable['output_type'] = 'display_data';\n",
              "        await google.colab.output.renderOutput(dataTable, element);\n",
              "        const docLink = document.createElement('div');\n",
              "        docLink.innerHTML = docLinkHtml;\n",
              "        element.appendChild(docLink);\n",
              "      }\n",
              "    </script>\n",
              "  </div>\n",
              "\n",
              "\n",
              "<div id=\"df-39cc3a30-d068-47c1-a713-bde8c29aa4a9\">\n",
              "  <button class=\"colab-df-quickchart\" onclick=\"quickchart('df-39cc3a30-d068-47c1-a713-bde8c29aa4a9')\"\n",
              "            title=\"Suggest charts\"\n",
              "            style=\"display:none;\">\n",
              "\n",
              "<svg xmlns=\"http://www.w3.org/2000/svg\" height=\"24px\"viewBox=\"0 0 24 24\"\n",
              "     width=\"24px\">\n",
              "    <g>\n",
              "        <path d=\"M19 3H5c-1.1 0-2 .9-2 2v14c0 1.1.9 2 2 2h14c1.1 0 2-.9 2-2V5c0-1.1-.9-2-2-2zM9 17H7v-7h2v7zm4 0h-2V7h2v10zm4 0h-2v-4h2v4z\"/>\n",
              "    </g>\n",
              "</svg>\n",
              "  </button>\n",
              "\n",
              "<style>\n",
              "  .colab-df-quickchart {\n",
              "      --bg-color: #E8F0FE;\n",
              "      --fill-color: #1967D2;\n",
              "      --hover-bg-color: #E2EBFA;\n",
              "      --hover-fill-color: #174EA6;\n",
              "      --disabled-fill-color: #AAA;\n",
              "      --disabled-bg-color: #DDD;\n",
              "  }\n",
              "\n",
              "  [theme=dark] .colab-df-quickchart {\n",
              "      --bg-color: #3B4455;\n",
              "      --fill-color: #D2E3FC;\n",
              "      --hover-bg-color: #434B5C;\n",
              "      --hover-fill-color: #FFFFFF;\n",
              "      --disabled-bg-color: #3B4455;\n",
              "      --disabled-fill-color: #666;\n",
              "  }\n",
              "\n",
              "  .colab-df-quickchart {\n",
              "    background-color: var(--bg-color);\n",
              "    border: none;\n",
              "    border-radius: 50%;\n",
              "    cursor: pointer;\n",
              "    display: none;\n",
              "    fill: var(--fill-color);\n",
              "    height: 32px;\n",
              "    padding: 0;\n",
              "    width: 32px;\n",
              "  }\n",
              "\n",
              "  .colab-df-quickchart:hover {\n",
              "    background-color: var(--hover-bg-color);\n",
              "    box-shadow: 0 1px 2px rgba(60, 64, 67, 0.3), 0 1px 3px 1px rgba(60, 64, 67, 0.15);\n",
              "    fill: var(--button-hover-fill-color);\n",
              "  }\n",
              "\n",
              "  .colab-df-quickchart-complete:disabled,\n",
              "  .colab-df-quickchart-complete:disabled:hover {\n",
              "    background-color: var(--disabled-bg-color);\n",
              "    fill: var(--disabled-fill-color);\n",
              "    box-shadow: none;\n",
              "  }\n",
              "\n",
              "  .colab-df-spinner {\n",
              "    border: 2px solid var(--fill-color);\n",
              "    border-color: transparent;\n",
              "    border-bottom-color: var(--fill-color);\n",
              "    animation:\n",
              "      spin 1s steps(1) infinite;\n",
              "  }\n",
              "\n",
              "  @keyframes spin {\n",
              "    0% {\n",
              "      border-color: transparent;\n",
              "      border-bottom-color: var(--fill-color);\n",
              "      border-left-color: var(--fill-color);\n",
              "    }\n",
              "    20% {\n",
              "      border-color: transparent;\n",
              "      border-left-color: var(--fill-color);\n",
              "      border-top-color: var(--fill-color);\n",
              "    }\n",
              "    30% {\n",
              "      border-color: transparent;\n",
              "      border-left-color: var(--fill-color);\n",
              "      border-top-color: var(--fill-color);\n",
              "      border-right-color: var(--fill-color);\n",
              "    }\n",
              "    40% {\n",
              "      border-color: transparent;\n",
              "      border-right-color: var(--fill-color);\n",
              "      border-top-color: var(--fill-color);\n",
              "    }\n",
              "    60% {\n",
              "      border-color: transparent;\n",
              "      border-right-color: var(--fill-color);\n",
              "    }\n",
              "    80% {\n",
              "      border-color: transparent;\n",
              "      border-right-color: var(--fill-color);\n",
              "      border-bottom-color: var(--fill-color);\n",
              "    }\n",
              "    90% {\n",
              "      border-color: transparent;\n",
              "      border-bottom-color: var(--fill-color);\n",
              "    }\n",
              "  }\n",
              "</style>\n",
              "\n",
              "  <script>\n",
              "    async function quickchart(key) {\n",
              "      const quickchartButtonEl =\n",
              "        document.querySelector('#' + key + ' button');\n",
              "      quickchartButtonEl.disabled = true;  // To prevent multiple clicks.\n",
              "      quickchartButtonEl.classList.add('colab-df-spinner');\n",
              "      try {\n",
              "        const charts = await google.colab.kernel.invokeFunction(\n",
              "            'suggestCharts', [key], {});\n",
              "      } catch (error) {\n",
              "        console.error('Error during call to suggestCharts:', error);\n",
              "      }\n",
              "      quickchartButtonEl.classList.remove('colab-df-spinner');\n",
              "      quickchartButtonEl.classList.add('colab-df-quickchart-complete');\n",
              "    }\n",
              "    (() => {\n",
              "      let quickchartButtonEl =\n",
              "        document.querySelector('#df-39cc3a30-d068-47c1-a713-bde8c29aa4a9 button');\n",
              "      quickchartButtonEl.style.display =\n",
              "        google.colab.kernel.accessAllowed ? 'block' : 'none';\n",
              "    })();\n",
              "  </script>\n",
              "</div>\n",
              "\n",
              "    </div>\n",
              "  </div>\n"
            ],
            "application/vnd.google.colaboratory.intrinsic+json": {
              "type": "dataframe"
            }
          },
          "metadata": {},
          "execution_count": 420
        }
      ]
    },
    {
      "cell_type": "markdown",
      "source": [
        "## Data Exploration\n",
        "\n",
        " #6 In the following cells I have visualized the cleaned dataframe across each column on.\n",
        " #7 I verified that the target column had no null values.\n",
        " #8"
      ],
      "metadata": {
        "id": "dNaQRT2CpiAu"
      }
    },
    {
      "cell_type": "markdown",
      "source": [
        "### #6 Visual Analysis of data"
      ],
      "metadata": {
        "id": "0FCpD6mWiVHz"
      }
    },
    {
      "cell_type": "code",
      "source": [
        "trans_data_copy_2.hist(figsize=(13, 13), bins=100)\n",
        "plt.tight_layout()\n",
        "plt.show()"
      ],
      "metadata": {
        "id": "B-uMfcymif_-"
      },
      "execution_count": null,
      "outputs": []
    },
    {
      "cell_type": "markdown",
      "source": [
        "### #7 Verify 'target' column"
      ],
      "metadata": {
        "id": "AxBJBwofmcLj"
      }
    },
    {
      "cell_type": "code",
      "source": [
        "trans_data_copy_2.info()"
      ],
      "metadata": {
        "id": "E4IEmGG_nPM5"
      },
      "execution_count": null,
      "outputs": []
    },
    {
      "cell_type": "markdown",
      "source": [
        "## #8 Check Correlations between predictors"
      ],
      "metadata": {
        "id": "wlkslRWnpuYJ"
      }
    },
    {
      "cell_type": "markdown",
      "source": [
        "### View correlation graphs and data"
      ],
      "metadata": {
        "id": "wQqwCM_dN2cA"
      }
    },
    {
      "cell_type": "code",
      "source": [
        "# Here we show a heatmap of the correlations in this remaining data\n",
        "\n",
        "# corr calculates the correlation matrix for the dataset in trans_data_copy_2\n",
        "corr = trans_data_copy_2.corr()\n",
        "# here the heatmap is generated and sized\n",
        "plt.figure(figsize=(12,8))\n",
        "sns.heatmap(corr, cmap='magma',annot = False);"
      ],
      "metadata": {
        "id": "U3vWjppKndvF"
      },
      "execution_count": null,
      "outputs": []
    },
    {
      "cell_type": "code",
      "source": [
        "# Here we removes the perfect correlations so we can foCus on the relationships between different unique variables\n",
        "corr_unstacked = corr.unstack()\n",
        "corr_unstacked"
      ],
      "metadata": {
        "id": "Khkhv9H7QVqM"
      },
      "execution_count": null,
      "outputs": []
    },
    {
      "cell_type": "code",
      "source": [
        "# Here we select correlations with the 'target' variable and take the absolute values of these correlations\n",
        "corr_unstacked_not_self = corr_unstacked[ corr_unstacked !=1 ]\n",
        "corr_unstacked_not_self"
      ],
      "metadata": {
        "id": "aiZOXgD7QnX-"
      },
      "execution_count": null,
      "outputs": []
    },
    {
      "cell_type": "code",
      "source": [
        "corr_unstacked_not_self['target'].abs().sort_values(ascending = False)"
      ],
      "metadata": {
        "id": "eSKQLzxSR1IV"
      },
      "execution_count": null,
      "outputs": []
    },
    {
      "cell_type": "code",
      "source": [
        "corr_pair = corr_unstacked_not_self.abs().sort_values(kind='quicksort', ascending = False)\n",
        "corr_pair"
      ],
      "metadata": {
        "id": "yjmqi0hIR981"
      },
      "execution_count": null,
      "outputs": []
    },
    {
      "cell_type": "code",
      "source": [
        "corr_pair[::2].head(20)"
      ],
      "metadata": {
        "id": "yJ5nYdSXrR4E"
      },
      "execution_count": null,
      "outputs": []
    },
    {
      "cell_type": "markdown",
      "source": [
        "## Data Processing"
      ],
      "metadata": {
        "id": "Z_mIDNgbzwKT"
      }
    },
    {
      "cell_type": "markdown",
      "source": [
        "### #9 Create sale and no_sale Dataframes"
      ],
      "metadata": {
        "id": "T0ysPRZtDOI-"
      }
    },
    {
      "cell_type": "code",
      "source": [
        "df_target_0 = trans_data_copy_2[trans_data_copy_2['target'] == 0]"
      ],
      "metadata": {
        "id": "35wDB6xQD3y9"
      },
      "execution_count": null,
      "outputs": []
    },
    {
      "cell_type": "code",
      "source": [
        "df_target_0.shape"
      ],
      "metadata": {
        "id": "z-HZ-ucTFK3o"
      },
      "execution_count": null,
      "outputs": []
    },
    {
      "cell_type": "code",
      "source": [
        "df_target_1 = trans_data_copy_2[trans_data_copy_2['target'] == 1]"
      ],
      "metadata": {
        "id": "SmlVwhvvFKVi"
      },
      "execution_count": null,
      "outputs": []
    },
    {
      "cell_type": "code",
      "source": [
        "df_target_1.shape"
      ],
      "metadata": {
        "id": "YqdJ1LpQFV9r"
      },
      "execution_count": null,
      "outputs": []
    },
    {
      "cell_type": "code",
      "source": [
        "sale = pd.DataFrame(df_target_1).copy()"
      ],
      "metadata": {
        "id": "yuYUeSV_GADy"
      },
      "execution_count": null,
      "outputs": []
    },
    {
      "cell_type": "code",
      "source": [
        "no_sale = pd.DataFrame(df_target_0).copy()"
      ],
      "metadata": {
        "id": "2ktXVcdcPDqY"
      },
      "execution_count": null,
      "outputs": []
    },
    {
      "cell_type": "markdown",
      "source": [
        "### #10 predictor and target Dataframes"
      ],
      "metadata": {
        "id": "0OE2pJhQsW8y"
      }
    },
    {
      "cell_type": "code",
      "source": [
        "drop_target = trans_data_copy_2.copy()"
      ],
      "metadata": {
        "id": "-USEfFMJz0YF"
      },
      "execution_count": null,
      "outputs": []
    },
    {
      "cell_type": "code",
      "source": [
        "dropped_target = drop_target.drop(\"target\", axis=1)"
      ],
      "metadata": {
        "id": "mw1qCpTKAGab"
      },
      "execution_count": null,
      "outputs": []
    },
    {
      "cell_type": "code",
      "source": [
        "predictors = dropped_target.copy()"
      ],
      "metadata": {
        "id": "sUuIj_NRAVD2"
      },
      "execution_count": null,
      "outputs": []
    },
    {
      "cell_type": "code",
      "source": [
        "drop_var = trans_data_copy_2.copy()"
      ],
      "metadata": {
        "id": "ezTk1i_0DZeV"
      },
      "execution_count": null,
      "outputs": []
    },
    {
      "cell_type": "code",
      "source": [
        "columns_to_drop = [col for col in drop_var.columns if col != 'target']"
      ],
      "metadata": {
        "id": "jHWrxs61Eouc"
      },
      "execution_count": null,
      "outputs": []
    },
    {
      "cell_type": "code",
      "source": [
        "dropped_var = drop_var.drop(columns=columns_to_drop)"
      ],
      "metadata": {
        "id": "AGxxeVwqDtvh"
      },
      "execution_count": null,
      "outputs": []
    },
    {
      "cell_type": "code",
      "source": [
        "target = dropped_var\n",
        "target"
      ],
      "metadata": {
        "id": "xW3FSbDHGDhg"
      },
      "execution_count": null,
      "outputs": []
    },
    {
      "cell_type": "markdown",
      "source": [
        "### #11 initialize GaussianNB()"
      ],
      "metadata": {
        "id": "ujaOgF4qHlrZ"
      }
    },
    {
      "cell_type": "code",
      "source": [
        "gnb = GaussianNB()"
      ],
      "metadata": {
        "id": "GNRV7kPILJdy"
      },
      "execution_count": null,
      "outputs": []
    },
    {
      "cell_type": "markdown",
      "source": [
        "### create train_test_split"
      ],
      "metadata": {
        "id": "S37RjZu0L5Hj"
      }
    },
    {
      "cell_type": "markdown",
      "source": [
        "### #12 Divide Data Frames\n",
        "### #13 Train Model on testing subset\n",
        "### #14 Train Model on training subset\n",
        "### #15 cross-validation loop to calculate model accuracy"
      ],
      "metadata": {
        "id": "QnHchwST_YbE"
      }
    },
    {
      "cell_type": "code",
      "source": [
        "X = predictors\n",
        "y = target['target']"
      ],
      "metadata": {
        "id": "F08lM8YQ8LLv"
      },
      "execution_count": null,
      "outputs": []
    },
    {
      "cell_type": "code",
      "source": [
        "numLoops = 50\n",
        "accuracy_scores = np.zeros(numLoops)\n",
        "\n",
        "for idx in range(numLoops):\n",
        "    X_train, X_test, y_train, y_test = train_test_split(X, y, test_size=0.20)\n",
        "    gnb.fit(X_train, y_train)\n",
        "    y_pred = gnb.predict(X_test)\n",
        "    accuracy_scores[idx] = metrics.accuracy_score(y_test, y_pred)\n",
        "\n",
        "mean_accuracy = accuracy_scores.mean()\n",
        "print(f\"Mean accuracy over {numLoops} iterations: {mean_accuracy:.4f}\")\n"
      ],
      "metadata": {
        "id": "Vk8utaVeL4Xw"
      },
      "execution_count": null,
      "outputs": []
    },
    {
      "cell_type": "code",
      "source": [
        "def cross_validate(X, y, num_loops):\n",
        "  \"\"\"Randomly splits X and y values into train/test groups (test size = 20%).\n",
        "  Creates a GaussianNB model.\n",
        "  Returns a numpy array of accuracy scores for the tests.\n",
        "  \"\"\"\n",
        "\n",
        "  accuracy_scores = np.zeros(num_loops)\n",
        "\n",
        "  for i in range(num_loops):\n",
        "    model_split_cv = GaussianNB()\n",
        "    X_train, X_test, y_train, y_test = model_selection.train_test_split(X, y, test_size = 0.2)\n",
        "    model_split_cv.fit(X_train, y_train)\n",
        "    y_split_pred = model_split_cv.predict(X_test)\n",
        "    accuracy_scores[i] = metrics.accuracy_score(y_test, y_split_pred)\n",
        "\n",
        "  return accuracy_scores"
      ],
      "metadata": {
        "id": "1hFU_KuCCgnG"
      },
      "execution_count": null,
      "outputs": []
    },
    {
      "cell_type": "code",
      "source": [
        "accuracy_scores = cross_validate(X, y, 100)\n",
        "print(round(accuracy_scores.mean(), 5))"
      ],
      "metadata": {
        "id": "-XyhP1YVCrfK"
      },
      "execution_count": null,
      "outputs": []
    },
    {
      "cell_type": "markdown",
      "source": [
        "### #16 Histogram"
      ],
      "metadata": {
        "id": "cxIVxjlRQSfa"
      }
    },
    {
      "cell_type": "code",
      "source": [
        "plt.hist(accuracy_scores)\n",
        "plt.title('Frequency of accuracy scores for cross-validation')\n",
        "plt.show()"
      ],
      "metadata": {
        "id": "OaQomJj0JVbv"
      },
      "execution_count": null,
      "outputs": []
    },
    {
      "cell_type": "markdown",
      "source": [
        "### #17 Confusion Matrix"
      ],
      "metadata": {
        "id": "qN2FFrzpPtUq"
      }
    },
    {
      "cell_type": "code",
      "source": [
        "metrics.ConfusionMatrixDisplay.from_estimator(\n",
        "    gnb,\n",
        "    X_test,\n",
        "    y_test,\n",
        "    normalize = 'true',\n",
        "    values_format = '.2%',\n",
        "    cmap = 'magma',\n",
        "    )\n",
        "plt.grid(False)\n",
        "plt.title('Confusion matrix') ;\n",
        "plt.savefig('confusion_matrix.png')"
      ],
      "metadata": {
        "id": "nF4AMXewCMP4"
      },
      "execution_count": null,
      "outputs": []
    },
    {
      "cell_type": "markdown",
      "source": [
        "### #18 Remove enough no_sale transaction rows to get a 50% split on the remaining data"
      ],
      "metadata": {
        "id": "E9bdGRyBWTuF"
      }
    },
    {
      "cell_type": "code",
      "source": [
        "# Calculate the number of successful transactions\n",
        "num_successful = sale.shape[0]\n",
        "\n",
        "# Calculate the number of unsuccessful transactions needed for a 50/50 split\n",
        "num_unsuccessful_needed = num_successful\n",
        "\n",
        "# Randomly sample the required number of unsuccessful transactions\n",
        "balanced_unsuccessful = no_sale.sample(n=num_unsuccessful_needed, random_state=42)\n",
        "\n",
        "# Combine the successful and balanced unsuccessful transactions\n",
        "balanced_data = pd.concat([sale, balanced_unsuccessful])"
      ],
      "metadata": {
        "id": "CL9pRtYsWmm8"
      },
      "execution_count": null,
      "outputs": []
    },
    {
      "cell_type": "code",
      "source": [
        "# Shuffle the balanced data to mix successful and unsuccessful transactions\n",
        "balanced_data = balanced_data.sample(frac=1, random_state=42).reset_index(drop=True)"
      ],
      "metadata": {
        "id": "oNQ5UITNaTrR"
      },
      "execution_count": null,
      "outputs": []
    },
    {
      "cell_type": "code",
      "source": [
        "X = balanced_data.drop('target', axis=1)\n",
        "y = balanced_data['target']"
      ],
      "metadata": {
        "id": "1kS3HvQEaY9x"
      },
      "execution_count": null,
      "outputs": []
    },
    {
      "cell_type": "code",
      "source": [
        "X_train, X_test, y_train, y_test = train_test_split(X, y, test_size=0.2, random_state=42)"
      ],
      "metadata": {
        "id": "7hj-ENnSag9R"
      },
      "execution_count": null,
      "outputs": []
    },
    {
      "cell_type": "markdown",
      "source": [
        "### #19 cross_validate this dataset with previous dataset"
      ],
      "metadata": {
        "id": "_HKbrtaWa90M"
      }
    },
    {
      "cell_type": "code",
      "source": [
        "num_successful = sale.shape[0]\n",
        "num_successful"
      ],
      "metadata": {
        "id": "9nNoZ8V1aqdd"
      },
      "execution_count": null,
      "outputs": []
    },
    {
      "cell_type": "markdown",
      "source": [
        "### #20 Compare the results of original model with balanced_data model"
      ],
      "metadata": {
        "id": "PQB_tbh6bTIB"
      }
    },
    {
      "cell_type": "code",
      "source": [
        "num_unsuccessful_needed = num_successful"
      ],
      "metadata": {
        "id": "36i8lPE7hRWj"
      },
      "execution_count": null,
      "outputs": []
    },
    {
      "cell_type": "code",
      "source": [
        "balanced_unsuccessful = no_sale.sample(n=num_unsuccessful_needed, random_state=42)\n",
        "balanced_unsuccessful"
      ],
      "metadata": {
        "id": "JnsvSJlUbh8m"
      },
      "execution_count": null,
      "outputs": []
    },
    {
      "cell_type": "code",
      "source": [
        "whole_data_accuracy = trans_data_copy_2"
      ],
      "metadata": {
        "id": "513UE0ZZN_Bs"
      },
      "execution_count": null,
      "outputs": []
    },
    {
      "cell_type": "code",
      "source": [
        "whole_mean_accuracy = round(accuracy_scores.mean(), 5)\n",
        "balanced_mean_accuracy = round(balanced_data.mean(), 5)\n",
        "whole_mean_accuracy\n"
      ],
      "metadata": {
        "id": "yt_na6yagCRW"
      },
      "execution_count": null,
      "outputs": []
    },
    {
      "cell_type": "code",
      "source": [
        "balanced_data = pd.concat([sale, balanced_unsuccessful])\n",
        "balanced_data"
      ],
      "metadata": {
        "id": "hwv46I0Y0DUy"
      },
      "execution_count": null,
      "outputs": []
    },
    {
      "cell_type": "code",
      "source": [
        "X_balanced = balanced_data.drop('target', axis=1)\n",
        "y_balanced = balanced_data['target']\n",
        "\n",
        "X_train, X_test, y_train, y_test = train_test_split(X_balanced, y_balanced, test_size=0.2, random_state=42)\n",
        "\n",
        "balanced_data_accuracy = cross_validate(X_balanced, y_balanced, 100)\n",
        "balanced_data_mean_accuracy = round(balanced_data_accuracy.mean(), 5)\n",
        "print(f\"Mean accuracy on balanced dataset: {balanced_data_mean_accuracy}\")"
      ],
      "metadata": {
        "id": "jGTg0P610MdV"
      },
      "execution_count": null,
      "outputs": []
    },
    {
      "cell_type": "code",
      "source": [
        "X_whole = predictors\n",
        "y_whole = target['target']\n",
        "\n",
        "whole_data_accuracy = cross_validate(X_whole, y_whole, 100)\n",
        "whole_data_mean_accuracy = round(whole_data_accuracy.mean(), 5)\n",
        "print(f\"Mean accuracy on whole dataset: {whole_data_mean_accuracy}\")"
      ],
      "metadata": {
        "id": "SUZPf43J0SMI"
      },
      "execution_count": null,
      "outputs": []
    },
    {
      "cell_type": "markdown",
      "source": [
        "### #21 Data Visualization"
      ],
      "metadata": {
        "id": "nZTw5WeQzIv7"
      }
    },
    {
      "cell_type": "markdown",
      "source": [
        "### Confusion Matrix and results of classification report"
      ],
      "metadata": {
        "id": "oq2C5gWLUNHs"
      }
    },
    {
      "cell_type": "code",
      "source": [
        "# Plot the results\n",
        "plt.figure(figsize=(10, 6))\n",
        "plt.bar(['Whole Dataset', 'Balanced Dataset'], [whole_data_mean_accuracy, balanced_data_mean_accuracy])\n",
        "plt.xlabel('Dataset')\n",
        "plt.ylabel('Mean Accuracy')\n",
        "plt.title('Cross-Validation Accuracy Comparison')\n",
        "plt.show()"
      ],
      "metadata": {
        "id": "FfLZozy9gZW_"
      },
      "execution_count": null,
      "outputs": []
    },
    {
      "cell_type": "markdown",
      "source": [
        "# Final thoughts/ Communicate Results\n",
        "\n",
        "### Data Cleaning and Exploration:\n",
        "The initial dataset contains 53 columns. Upon examination, the 'Unnamed: 0' and 'ID_code' columns appear irrelevant and are removed. The remaining data is checked for null values, and descriptive statistics are calculated. Histograms are generated for visual analysis of the data distribution. The 'target' column, representing transaction success (1) or failure (0), is verified.\n",
        "\n",
        "###Correlation Analysis:\n",
        "A correlation matrix is created to identify relationships between predictors. The analysis focuses on correlations with the 'target' variable, revealing the predictors with the prediction\n",
        "\n",
        "### Model Training and Evaluation (Initial):\n",
        "A Gaussian Naive Bayes (GNB) model is initialized. The data is split into training and testing sets. The model is trained and evaluated using a loop with 50 iterations, achieving a mean accuracy of 91.11%. Cross-validation is performed with 100 iterations, resulting in a mean accuracy of 75.857%.\n",
        "\n",
        "### Addressing Class Imbalance:\n",
        "The analysis recognizes a class imbalance in the dataset. To address this, a balanced dataset is created by randomly sampling an equal number of successful and unsuccessful transactions.\n",
        "\n",
        "### Model Training and Evaluation (Balanced Data):\n",
        "The GNB model is trained and evaluated on the balanced dataset. The mean accuracy on the balanced dataset is 75.8%, compared to 91.111% on the original dataset. This difference highlights the impact of class imbalance on model performance.\n",
        "\n",
        "### Results and Comparison:\n",
        "A bar chart visualizes the mean accuracy scores for both the original and balanced datasets. The confusion matrix and a classification report are generated to further evaluate the model's performance.\n",
        "\n",
        "# Hypothesis:\n",
        "\n",
        "The data suggests that the median chance of a customer making a purchase in the future is approximately 1/10. However, upon closer inspection, we observe slightly higher correlations between certain var_* variables and successful transactions.\n",
        "\n",
        "Specifically:\n",
        "\n",
        "The three highest correlated variables (var_20, var_31, and var_5) show correlation coefficients ranging from 0.080689 to 0.070015. While these correlations are not extremely strong, they do indicate a positive relationship between these variables and successful transactions.\n",
        "\n",
        "Variables with correlation coefficients greater than 0.05 suggest a higher chance of a successful transaction. This threshold, while not definitive, provides a baseline for identifying potentially influential factors.\n",
        "\n",
        "The correlation analysis reveals a pattern where certain variables are more strongly associated with successful purchases than others. This suggests that focusing on these variables could potentially improve predictive models and marketing strategies.\n",
        "\n",
        "It's important to note that correlation does not imply causation and to keep in mind that the original dataset is highly imbalanced meaning the model chooses the majority class most of the time.\n",
        "\n",
        "These relationships may indicate underlying factors that contribute to successful transactions, but further analysis would be needed to determine causal relationships.\n",
        "\n",
        "The relatively low correlation coefficients across all variables suggest that successful transactions are likely influenced by a complex interplay of factors, rather than being strongly determined by any single variable.\n",
        "\n",
        "This analysis provides valuable insights into the relationships between various factors and successful transactions, allowing for more informed decision-making in product development, marketing strategies, and customer targeting. However, it's crucial to interpret these findings in the context of broader market research and business knowledge to derive actionable insights."
      ],
      "metadata": {
        "id": "ub8oIXaD9sr7"
      }
    },
    {
      "cell_type": "code",
      "source": [
        "import seaborn as sns\n",
        "import matplotlib.pyplot as plt\n",
        "\n",
        "for var in ['var_20', 'var_31', 'var_5']:\n",
        "    sns.boxplot(x='target', y=var, data=trans_data_copy_2)\n",
        "    plt.title(f'Distribution of {var} by Target')\n",
        "    plt.tight_layout()\n",
        "    plt.show()"
      ],
      "metadata": {
        "id": "1Sc6OF8YAZJ8"
      },
      "execution_count": null,
      "outputs": []
    },
    {
      "cell_type": "code",
      "source": [
        "from sklearn.ensemble import RandomForestClassifier\n",
        "\n",
        "rf = RandomForestClassifier()\n",
        "rf.fit(X, y)\n",
        "feature_importances = pd.Series(rf.feature_importances_, index=X.columns)\n",
        "print(feature_importances.sort_values(ascending=False).head(10))\n"
      ],
      "metadata": {
        "id": "ssJ_uG8cBpuN"
      },
      "execution_count": null,
      "outputs": []
    },
    {
      "cell_type": "markdown",
      "source": [
        "# Citations\n",
        "[Titanic Survival Project:](https://nbviewer.org/urls/ddc-datascience.s3.us-west-1.amazonaws.com/Projects/Example/Titanic.Survival.Prediction.Using.Naive.Bayes.ipynb)\n",
        "/\n",
        "[Kyla Bendt:](https://github.com/KylaBendt)\n"
      ],
      "metadata": {
        "id": "qiZsMVRnU5T5"
      }
    }
  ]
}